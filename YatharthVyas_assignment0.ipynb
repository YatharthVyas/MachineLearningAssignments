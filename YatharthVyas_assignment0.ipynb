{
 "metadata": {
  "language_info": {
   "codemirror_mode": {
    "name": "ipython",
    "version": 3
   },
   "file_extension": ".py",
   "mimetype": "text/x-python",
   "name": "python",
   "nbconvert_exporter": "python",
   "pygments_lexer": "ipython3",
   "version": "3.7.6"
  },
  "orig_nbformat": 2,
  "kernelspec": {
   "name": "python376jvsc74a57bd01e74b558b801d290459a94fa84bc0dc97911bfedb15b2154c93d38e1eeb4c3b3",
   "display_name": "Python 3.7.6 64-bit"
  }
 },
 "nbformat": 4,
 "nbformat_minor": 2,
 "cells": [
  {
   "source": [
    "# Assignment 0\n",
    "\n",
    "## Mathematics\n",
    "\n",
    "### Probability and Statistics\n",
    "\n",
    "### Q1 Probablity for an unbiased Coin\n",
    "\n",
    "Given:  \n",
    "\n",
    "        S = {1, 0, 1, 1, 0, 1, 0}\n",
    "        n = 7 observations\n",
    "\n",
    "Ans 1.) Mean = (Sum of all Data)/(number of observations) = 4/7\n",
    "\n",
    "Ans 2.) Variance = sqrt(Sum(Readings-Mean)^2/n-1) = 0.5345224838248488 (calculation shown below)\n"
   ],
   "cell_type": "markdown",
   "metadata": {}
  },
  {
   "source": [
    "import numpy as np\n",
    "import math\n",
    "S = np.array([1,0,1,1,0,1,0])\n",
    "meanS = np.mean(S)\n",
    "math.sqrt(sum([math.pow(x-meanS,2) for x in S ])/(len(S)-1))"
   ],
   "cell_type": "code",
   "metadata": {},
   "execution_count": 2,
   "outputs": [
    {
     "output_type": "execute_result",
     "data": {
      "text/plain": [
       "0.5345224838248488"
      ]
     },
     "metadata": {},
     "execution_count": 2
    }
   ]
  },
  {
   "source": [
    "Ans 3.) Since Probablity for Heads as well as Tails is 1/2\n",
    "\n",
    " P = (1/2)^7 = 0.0078125 (Calculation shown below)\n",
    "        "
   ],
   "cell_type": "markdown",
   "metadata": {}
  },
  {
   "cell_type": "code",
   "execution_count": 5,
   "metadata": {},
   "outputs": [
    {
     "output_type": "execute_result",
     "data": {
      "text/plain": [
       "0.0078125"
      ]
     },
     "metadata": {},
     "execution_count": 5
    }
   ],
   "source": [
    "math.pow(0.5,7)"
   ]
  },
  {
   "source": [
    "4) Given:\n",
    "\n",
    "    Y = {a, b, c}\n",
    "    Z = {T,F}\n",
    "\n",
    "a) P(Z=T and Y=b) = 0.25 (From the Table)\n",
    "\n",
    "b) P(Z=T | Y=b) = (P(Z=T and Y=b) x P(Z=T)) / P(Y=b) = 0.25 * 0.5 / 0.45 = 2.5 / 9 = 10 / 36 = 5 / 18\n",
    "\n",
    "<hr>\n",
    "\n",
    "### Calculus\n",
    "\n",
    "5) Given: y = 5x^4 + x − 9\n",
    "\n",
    "dy/dx = 20x^3 + 1\n",
    "\n",
    "\n",
    "6) y = x sin(z^2) e^−x^3 + sin(2z)\n",
    "\n",
    "pdy/dx = sin(z^2) e^-x^3 - 3 x sin(z^2) e^−x^2\n",
    "\n",
    "<hr>\n",
    "\n",
    "### Vectors\n",
    "\n",
    "1) Rank of the Matrix: I dont know/remember\n",
    "\n",
    "2) Yes it is invertible beacuse the magnitude of the matrix is not equal to 0. |Z| = 10\n",
    "\n",
    "3) Inverse of the Matrix = 1/|Z| (\\[a11, -a21], \\[-a12, a22]) = 1/10 (\\[4 , -1], \\[-2, 3])"
   ],
   "cell_type": "markdown",
   "metadata": {}
  },
  {
   "cell_type": "code",
   "execution_count": null,
   "metadata": {},
   "outputs": [],
   "source": []
  }
 ]
}